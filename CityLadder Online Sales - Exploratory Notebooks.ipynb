{
 "cells": [
  {
   "cell_type": "code",
   "execution_count": 2,
   "metadata": {},
   "outputs": [],
   "source": [
    "# import statements\n",
    "import csv\n",
    "import pprint\n",
    "import json\n",
    "import numpy as np\n",
    "import pandas as pd\n",
    "import matplotlib.pyplot as plt\n",
    "import matplotlib.ticker as ticker\n",
    "% matplotlib inline\n",
    "import calendar\n",
    "import datetime"
   ]
  },
  {
   "cell_type": "code",
   "execution_count": 3,
   "metadata": {},
   "outputs": [
    {
     "data": {
      "text/html": [
       "<div>\n",
       "<style>\n",
       "    .dataframe thead tr:only-child th {\n",
       "        text-align: right;\n",
       "    }\n",
       "\n",
       "    .dataframe thead th {\n",
       "        text-align: left;\n",
       "    }\n",
       "\n",
       "    .dataframe tbody tr th {\n",
       "        vertical-align: top;\n",
       "    }\n",
       "</style>\n",
       "<table border=\"1\" class=\"dataframe\">\n",
       "  <thead>\n",
       "    <tr style=\"text-align: right;\">\n",
       "      <th></th>\n",
       "      <th>Date</th>\n",
       "      <th>Impressions</th>\n",
       "      <th>Click-Throughs</th>\n",
       "    </tr>\n",
       "  </thead>\n",
       "  <tbody>\n",
       "    <tr>\n",
       "      <th>0</th>\n",
       "      <td>1/1/17 0:00</td>\n",
       "      <td>1087</td>\n",
       "      <td>13</td>\n",
       "    </tr>\n",
       "    <tr>\n",
       "      <th>1</th>\n",
       "      <td>1/2/17 0:00</td>\n",
       "      <td>1440</td>\n",
       "      <td>17</td>\n",
       "    </tr>\n",
       "    <tr>\n",
       "      <th>2</th>\n",
       "      <td>1/3/17 0:00</td>\n",
       "      <td>2141</td>\n",
       "      <td>19</td>\n",
       "    </tr>\n",
       "    <tr>\n",
       "      <th>3</th>\n",
       "      <td>1/4/17 0:00</td>\n",
       "      <td>1882</td>\n",
       "      <td>13</td>\n",
       "    </tr>\n",
       "    <tr>\n",
       "      <th>4</th>\n",
       "      <td>1/5/17 0:00</td>\n",
       "      <td>1883</td>\n",
       "      <td>11</td>\n",
       "    </tr>\n",
       "  </tbody>\n",
       "</table>\n",
       "</div>"
      ],
      "text/plain": [
       "          Date  Impressions  Click-Throughs\n",
       "0  1/1/17 0:00         1087              13\n",
       "1  1/2/17 0:00         1440              17\n",
       "2  1/3/17 0:00         2141              19\n",
       "3  1/4/17 0:00         1882              13\n",
       "4  1/5/17 0:00         1883              11"
      ]
     },
     "execution_count": 3,
     "metadata": {},
     "output_type": "execute_result"
    }
   ],
   "source": [
    "# Load your data and print out a few lines. Perform operations to inspect data\n",
    "#   types and look for instances of missing or possibly errant data.\n",
    "\n",
    "referrals = pd.read_csv('Werner_CLC_Referrals.csv')\n",
    "referrals.head()"
   ]
  },
  {
   "cell_type": "code",
   "execution_count": 4,
   "metadata": {},
   "outputs": [
    {
     "name": "stdout",
     "output_type": "stream",
     "text": [
      "<class 'pandas.core.frame.DataFrame'>\n",
      "RangeIndex: 334 entries, 0 to 333\n",
      "Data columns (total 3 columns):\n",
      "Date              334 non-null object\n",
      "Impressions       334 non-null int64\n",
      "Click-Throughs    334 non-null int64\n",
      "dtypes: int64(2), object(1)\n",
      "memory usage: 7.9+ KB\n"
     ]
    }
   ],
   "source": [
    "referrals.info()"
   ]
  },
  {
   "cell_type": "code",
   "execution_count": 6,
   "metadata": {},
   "outputs": [
    {
     "data": {
      "text/html": [
       "<div>\n",
       "<style>\n",
       "    .dataframe thead tr:only-child th {\n",
       "        text-align: right;\n",
       "    }\n",
       "\n",
       "    .dataframe thead th {\n",
       "        text-align: left;\n",
       "    }\n",
       "\n",
       "    .dataframe tbody tr th {\n",
       "        vertical-align: top;\n",
       "    }\n",
       "</style>\n",
       "<table border=\"1\" class=\"dataframe\">\n",
       "  <thead>\n",
       "    <tr style=\"text-align: right;\">\n",
       "      <th></th>\n",
       "      <th>Quarter</th>\n",
       "      <th>SKU</th>\n",
       "      <th>Name</th>\n",
       "      <th>Country Code</th>\n",
       "      <th>Impressions</th>\n",
       "    </tr>\n",
       "  </thead>\n",
       "  <tbody>\n",
       "    <tr>\n",
       "      <th>0</th>\n",
       "      <td>3</td>\n",
       "      <td>127-0-02</td>\n",
       "      <td>Model 127-0-02 Saddle Box, Aluminum, Full Stan...</td>\n",
       "      <td>US</td>\n",
       "      <td>2004</td>\n",
       "    </tr>\n",
       "    <tr>\n",
       "      <th>1</th>\n",
       "      <td>3</td>\n",
       "      <td>300105-53-01</td>\n",
       "      <td>DEFENDER SERIES 300105-53-01 Full Size Saddle ...</td>\n",
       "      <td>US</td>\n",
       "      <td>1079</td>\n",
       "    </tr>\n",
       "    <tr>\n",
       "      <th>2</th>\n",
       "      <td>3</td>\n",
       "      <td>4830</td>\n",
       "      <td>Model 4830 JOBMASTER® Chest, 25.25 cu ft</td>\n",
       "      <td>US</td>\n",
       "      <td>637</td>\n",
       "    </tr>\n",
       "    <tr>\n",
       "      <th>3</th>\n",
       "      <td>3</td>\n",
       "      <td>300104-53-01</td>\n",
       "      <td>DEFENDER SERIES 300104-53-01 Compact Saddle Bo...</td>\n",
       "      <td>US</td>\n",
       "      <td>606</td>\n",
       "    </tr>\n",
       "    <tr>\n",
       "      <th>4</th>\n",
       "      <td>3</td>\n",
       "      <td>PA210</td>\n",
       "      <td>PA210 10 ft-17 ft Aluminum Extension Plank</td>\n",
       "      <td>US</td>\n",
       "      <td>595</td>\n",
       "    </tr>\n",
       "  </tbody>\n",
       "</table>\n",
       "</div>"
      ],
      "text/plain": [
       "   Quarter           SKU                                               Name  \\\n",
       "0        3      127-0-02  Model 127-0-02 Saddle Box, Aluminum, Full Stan...   \n",
       "1        3  300105-53-01  DEFENDER SERIES 300105-53-01 Full Size Saddle ...   \n",
       "2        3          4830           Model 4830 JOBMASTER® Chest, 25.25 cu ft   \n",
       "3        3  300104-53-01  DEFENDER SERIES 300104-53-01 Compact Saddle Bo...   \n",
       "4        3         PA210         PA210 10 ft-17 ft Aluminum Extension Plank   \n",
       "\n",
       "  Country Code  Impressions  \n",
       "0           US         2004  \n",
       "1           US         1079  \n",
       "2           US          637  \n",
       "3           US          606  \n",
       "4           US          595  "
      ]
     },
     "execution_count": 6,
     "metadata": {},
     "output_type": "execute_result"
    }
   ],
   "source": [
    "impressions = pd.read_csv('impressions_product.csv')\n",
    "impressions.head()"
   ]
  },
  {
   "cell_type": "code",
   "execution_count": 7,
   "metadata": {},
   "outputs": [
    {
     "name": "stdout",
     "output_type": "stream",
     "text": [
      "<class 'pandas.core.frame.DataFrame'>\n",
      "RangeIndex: 621 entries, 0 to 620\n",
      "Data columns (total 5 columns):\n",
      "Quarter         621 non-null int64\n",
      "SKU             621 non-null object\n",
      "Name            621 non-null object\n",
      "Country Code    621 non-null object\n",
      "Impressions     621 non-null int64\n",
      "dtypes: int64(2), object(3)\n",
      "memory usage: 24.3+ KB\n"
     ]
    }
   ],
   "source": [
    "impressions.info()"
   ]
  },
  {
   "cell_type": "code",
   "execution_count": 8,
   "metadata": {},
   "outputs": [
    {
     "data": {
      "text/html": [
       "<div>\n",
       "<style>\n",
       "    .dataframe thead tr:only-child th {\n",
       "        text-align: right;\n",
       "    }\n",
       "\n",
       "    .dataframe thead th {\n",
       "        text-align: left;\n",
       "    }\n",
       "\n",
       "    .dataframe tbody tr th {\n",
       "        vertical-align: top;\n",
       "    }\n",
       "</style>\n",
       "<table border=\"1\" class=\"dataframe\">\n",
       "  <thead>\n",
       "    <tr style=\"text-align: right;\">\n",
       "      <th></th>\n",
       "      <th>Quarter</th>\n",
       "      <th>SKU</th>\n",
       "      <th>Name</th>\n",
       "      <th>Country Code</th>\n",
       "      <th>Click-Throughs</th>\n",
       "      <th>Unnamed: 5</th>\n",
       "    </tr>\n",
       "  </thead>\n",
       "  <tbody>\n",
       "    <tr>\n",
       "      <th>0</th>\n",
       "      <td>3</td>\n",
       "      <td>300104-53-01</td>\n",
       "      <td>DEFENDER SERIES 300104-53-01 Compact Saddle Bo...</td>\n",
       "      <td>US</td>\n",
       "      <td>85</td>\n",
       "      <td>NaN</td>\n",
       "    </tr>\n",
       "    <tr>\n",
       "      <th>1</th>\n",
       "      <td>3</td>\n",
       "      <td>300105-53-01</td>\n",
       "      <td>DEFENDER SERIES 300105-53-01 Full Size Saddle ...</td>\n",
       "      <td>US</td>\n",
       "      <td>64</td>\n",
       "      <td>NaN</td>\n",
       "    </tr>\n",
       "    <tr>\n",
       "      <th>2</th>\n",
       "      <td>3</td>\n",
       "      <td>SRS-72</td>\n",
       "      <td>SRS-72 6 ft Steel Rolling Scaffold</td>\n",
       "      <td>US</td>\n",
       "      <td>51</td>\n",
       "      <td>NaN</td>\n",
       "    </tr>\n",
       "    <tr>\n",
       "      <th>3</th>\n",
       "      <td>3</td>\n",
       "      <td>SRG-72</td>\n",
       "      <td>SRG-72  Guard Rail and Toeboard Kit</td>\n",
       "      <td>US</td>\n",
       "      <td>47</td>\n",
       "      <td>NaN</td>\n",
       "    </tr>\n",
       "    <tr>\n",
       "      <th>4</th>\n",
       "      <td>3</td>\n",
       "      <td>127-0-02</td>\n",
       "      <td>Model 127-0-02 Saddle Box, Aluminum, Full Stan...</td>\n",
       "      <td>US</td>\n",
       "      <td>44</td>\n",
       "      <td>NaN</td>\n",
       "    </tr>\n",
       "  </tbody>\n",
       "</table>\n",
       "</div>"
      ],
      "text/plain": [
       "   Quarter           SKU                                               Name  \\\n",
       "0        3  300104-53-01  DEFENDER SERIES 300104-53-01 Compact Saddle Bo...   \n",
       "1        3  300105-53-01  DEFENDER SERIES 300105-53-01 Full Size Saddle ...   \n",
       "2        3        SRS-72                 SRS-72 6 ft Steel Rolling Scaffold   \n",
       "3        3        SRG-72                SRG-72  Guard Rail and Toeboard Kit   \n",
       "4        3      127-0-02  Model 127-0-02 Saddle Box, Aluminum, Full Stan...   \n",
       "\n",
       "  Country Code  Click-Throughs  Unnamed: 5  \n",
       "0           US              85         NaN  \n",
       "1           US              64         NaN  \n",
       "2           US              51         NaN  \n",
       "3           US              47         NaN  \n",
       "4           US              44         NaN  "
      ]
     },
     "execution_count": 8,
     "metadata": {},
     "output_type": "execute_result"
    }
   ],
   "source": [
    "clicks = pd.read_csv('clickthrough_product.csv')\n",
    "clicks.head()"
   ]
  },
  {
   "cell_type": "code",
   "execution_count": 9,
   "metadata": {},
   "outputs": [
    {
     "name": "stdout",
     "output_type": "stream",
     "text": [
      "<class 'pandas.core.frame.DataFrame'>\n",
      "RangeIndex: 514 entries, 0 to 513\n",
      "Data columns (total 6 columns):\n",
      "Quarter           514 non-null int64\n",
      "SKU               514 non-null object\n",
      "Name              514 non-null object\n",
      "Country Code      514 non-null object\n",
      "Click-Throughs    514 non-null int64\n",
      "Unnamed: 5        0 non-null float64\n",
      "dtypes: float64(1), int64(2), object(3)\n",
      "memory usage: 24.2+ KB\n"
     ]
    }
   ],
   "source": [
    "clicks.info()"
   ]
  },
  {
   "cell_type": "code",
   "execution_count": null,
   "metadata": {
    "collapsed": true
   },
   "outputs": [],
   "source": []
  }
 ],
 "metadata": {
  "kernelspec": {
   "display_name": "Python 3",
   "language": "python",
   "name": "python3"
  },
  "language_info": {
   "codemirror_mode": {
    "name": "ipython",
    "version": 3
   },
   "file_extension": ".py",
   "mimetype": "text/x-python",
   "name": "python",
   "nbconvert_exporter": "python",
   "pygments_lexer": "ipython3",
   "version": "3.6.2"
  }
 },
 "nbformat": 4,
 "nbformat_minor": 2
}
