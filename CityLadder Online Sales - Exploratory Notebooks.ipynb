{
 "cells": [
  {
   "cell_type": "code",
   "execution_count": 5,
   "metadata": {
    "collapsed": true
   },
   "outputs": [],
   "source": [
    "# import statements\n",
    "import csv\n",
    "import pprint\n",
    "import json\n",
    "import numpy as np\n",
    "import pandas as pd\n",
    "import matplotlib.pyplot as plt\n",
    "import matplotlib.ticker as ticker\n",
    "% matplotlib inline\n",
    "import calendar\n",
    "import datetime"
   ]
  },
  {
   "cell_type": "code",
   "execution_count": 6,
   "metadata": {},
   "outputs": [
    {
     "data": {
      "text/html": [
       "<div>\n",
       "<style>\n",
       "    .dataframe thead tr:only-child th {\n",
       "        text-align: right;\n",
       "    }\n",
       "\n",
       "    .dataframe thead th {\n",
       "        text-align: left;\n",
       "    }\n",
       "\n",
       "    .dataframe tbody tr th {\n",
       "        vertical-align: top;\n",
       "    }\n",
       "</style>\n",
       "<table border=\"1\" class=\"dataframe\">\n",
       "  <thead>\n",
       "    <tr style=\"text-align: right;\">\n",
       "      <th></th>\n",
       "      <th>Date</th>\n",
       "      <th>Impressions</th>\n",
       "      <th>Click-Throughs</th>\n",
       "    </tr>\n",
       "  </thead>\n",
       "  <tbody>\n",
       "    <tr>\n",
       "      <th>0</th>\n",
       "      <td>1/1/17 0:00</td>\n",
       "      <td>1087</td>\n",
       "      <td>13</td>\n",
       "    </tr>\n",
       "    <tr>\n",
       "      <th>1</th>\n",
       "      <td>1/2/17 0:00</td>\n",
       "      <td>1440</td>\n",
       "      <td>17</td>\n",
       "    </tr>\n",
       "    <tr>\n",
       "      <th>2</th>\n",
       "      <td>1/3/17 0:00</td>\n",
       "      <td>2141</td>\n",
       "      <td>19</td>\n",
       "    </tr>\n",
       "    <tr>\n",
       "      <th>3</th>\n",
       "      <td>1/4/17 0:00</td>\n",
       "      <td>1882</td>\n",
       "      <td>13</td>\n",
       "    </tr>\n",
       "    <tr>\n",
       "      <th>4</th>\n",
       "      <td>1/5/17 0:00</td>\n",
       "      <td>1883</td>\n",
       "      <td>11</td>\n",
       "    </tr>\n",
       "  </tbody>\n",
       "</table>\n",
       "</div>"
      ],
      "text/plain": [
       "          Date  Impressions  Click-Throughs\n",
       "0  1/1/17 0:00         1087              13\n",
       "1  1/2/17 0:00         1440              17\n",
       "2  1/3/17 0:00         2141              19\n",
       "3  1/4/17 0:00         1882              13\n",
       "4  1/5/17 0:00         1883              11"
      ]
     },
     "execution_count": 6,
     "metadata": {},
     "output_type": "execute_result"
    }
   ],
   "source": [
    "# Load your data and print out a few lines. Perform operations to inspect data\n",
    "#   types and look for instances of missing or possibly errant data.\n",
    "\n",
    "referrals = pd.read_csv('Werner_CLC_Referrals.csv')\n",
    "referrals.head()"
   ]
  },
  {
   "cell_type": "code",
   "execution_count": 7,
   "metadata": {},
   "outputs": [
    {
     "name": "stdout",
     "output_type": "stream",
     "text": [
      "<class 'pandas.core.frame.DataFrame'>\n",
      "RangeIndex: 334 entries, 0 to 333\n",
      "Data columns (total 3 columns):\n",
      "Date              334 non-null object\n",
      "Impressions       334 non-null int64\n",
      "Click-Throughs    334 non-null int64\n",
      "dtypes: int64(2), object(1)\n",
      "memory usage: 7.9+ KB\n"
     ]
    }
   ],
   "source": [
    "referrals.info()"
   ]
  },
  {
   "cell_type": "code",
   "execution_count": 8,
   "metadata": {},
   "outputs": [
    {
     "data": {
      "text/html": [
       "<div>\n",
       "<style>\n",
       "    .dataframe thead tr:only-child th {\n",
       "        text-align: right;\n",
       "    }\n",
       "\n",
       "    .dataframe thead th {\n",
       "        text-align: left;\n",
       "    }\n",
       "\n",
       "    .dataframe tbody tr th {\n",
       "        vertical-align: top;\n",
       "    }\n",
       "</style>\n",
       "<table border=\"1\" class=\"dataframe\">\n",
       "  <thead>\n",
       "    <tr style=\"text-align: right;\">\n",
       "      <th></th>\n",
       "      <th>SKU</th>\n",
       "      <th>Name</th>\n",
       "      <th>Q1</th>\n",
       "    </tr>\n",
       "  </thead>\n",
       "  <tbody>\n",
       "    <tr>\n",
       "      <th>0</th>\n",
       "      <td>127-0-02</td>\n",
       "      <td>Model 127-0-02 Saddle Box, Aluminum, Full Stan...</td>\n",
       "      <td>3955</td>\n",
       "    </tr>\n",
       "    <tr>\n",
       "      <th>1</th>\n",
       "      <td>4830</td>\n",
       "      <td>Model 4830 JOBMASTER® Chest, 25.25 cu ft</td>\n",
       "      <td>1564</td>\n",
       "    </tr>\n",
       "    <tr>\n",
       "      <th>2</th>\n",
       "      <td>300105-53-01</td>\n",
       "      <td>DEFENDER SERIES 300105-53-01 Full Size Saddle ...</td>\n",
       "      <td>1467</td>\n",
       "    </tr>\n",
       "    <tr>\n",
       "      <th>3</th>\n",
       "      <td>PA210</td>\n",
       "      <td>PA210 10 ft-17 ft Aluminum Extension Plank</td>\n",
       "      <td>1295</td>\n",
       "    </tr>\n",
       "    <tr>\n",
       "      <th>4</th>\n",
       "      <td>300104-53-01</td>\n",
       "      <td>DEFENDER SERIES 300104-53-01 Compact Saddle Bo...</td>\n",
       "      <td>1131</td>\n",
       "    </tr>\n",
       "  </tbody>\n",
       "</table>\n",
       "</div>"
      ],
      "text/plain": [
       "            SKU                                               Name    Q1\n",
       "0      127-0-02  Model 127-0-02 Saddle Box, Aluminum, Full Stan...  3955\n",
       "1          4830           Model 4830 JOBMASTER® Chest, 25.25 cu ft  1564\n",
       "2  300105-53-01  DEFENDER SERIES 300105-53-01 Full Size Saddle ...  1467\n",
       "3         PA210         PA210 10 ft-17 ft Aluminum Extension Plank  1295\n",
       "4  300104-53-01  DEFENDER SERIES 300104-53-01 Compact Saddle Bo...  1131"
      ]
     },
     "execution_count": 8,
     "metadata": {},
     "output_type": "execute_result"
    }
   ],
   "source": [
    "q1_impressions = pd.read_csv('q1_impressions.csv')\n",
    "q1_impressions.head()"
   ]
  },
  {
   "cell_type": "code",
   "execution_count": 9,
   "metadata": {},
   "outputs": [
    {
     "name": "stdout",
     "output_type": "stream",
     "text": [
      "<class 'pandas.core.frame.DataFrame'>\n",
      "RangeIndex: 193 entries, 0 to 192\n",
      "Data columns (total 3 columns):\n",
      "SKU     193 non-null object\n",
      "Name    193 non-null object\n",
      "Q1      193 non-null int64\n",
      "dtypes: int64(1), object(2)\n",
      "memory usage: 4.6+ KB\n"
     ]
    }
   ],
   "source": [
    "q1_impressions.info()"
   ]
  },
  {
   "cell_type": "code",
   "execution_count": 10,
   "metadata": {},
   "outputs": [
    {
     "data": {
      "text/html": [
       "<div>\n",
       "<style>\n",
       "    .dataframe thead tr:only-child th {\n",
       "        text-align: right;\n",
       "    }\n",
       "\n",
       "    .dataframe thead th {\n",
       "        text-align: left;\n",
       "    }\n",
       "\n",
       "    .dataframe tbody tr th {\n",
       "        vertical-align: top;\n",
       "    }\n",
       "</style>\n",
       "<table border=\"1\" class=\"dataframe\">\n",
       "  <thead>\n",
       "    <tr style=\"text-align: right;\">\n",
       "      <th></th>\n",
       "      <th>SKU</th>\n",
       "      <th>Name</th>\n",
       "      <th>Q2</th>\n",
       "    </tr>\n",
       "  </thead>\n",
       "  <tbody>\n",
       "    <tr>\n",
       "      <th>0</th>\n",
       "      <td>127-0-02</td>\n",
       "      <td>Model 127-0-02 Saddle Box, Aluminum, Full Stan...</td>\n",
       "      <td>3071</td>\n",
       "    </tr>\n",
       "    <tr>\n",
       "      <th>1</th>\n",
       "      <td>300105-53-01</td>\n",
       "      <td>DEFENDER SERIES 300105-53-01 Full Size Saddle ...</td>\n",
       "      <td>1514</td>\n",
       "    </tr>\n",
       "    <tr>\n",
       "      <th>2</th>\n",
       "      <td>4830</td>\n",
       "      <td>Model 4830 JOBMASTER® Chest, 25.25 cu ft</td>\n",
       "      <td>1109</td>\n",
       "    </tr>\n",
       "    <tr>\n",
       "      <th>3</th>\n",
       "      <td>PA210</td>\n",
       "      <td>PA210 10 ft-17 ft Aluminum Extension Plank</td>\n",
       "      <td>1048</td>\n",
       "    </tr>\n",
       "    <tr>\n",
       "      <th>4</th>\n",
       "      <td>300104-53-01</td>\n",
       "      <td>DEFENDER SERIES 300104-53-01 Compact Saddle Bo...</td>\n",
       "      <td>1043</td>\n",
       "    </tr>\n",
       "  </tbody>\n",
       "</table>\n",
       "</div>"
      ],
      "text/plain": [
       "            SKU                                               Name    Q2\n",
       "0      127-0-02  Model 127-0-02 Saddle Box, Aluminum, Full Stan...  3071\n",
       "1  300105-53-01  DEFENDER SERIES 300105-53-01 Full Size Saddle ...  1514\n",
       "2          4830           Model 4830 JOBMASTER® Chest, 25.25 cu ft  1109\n",
       "3         PA210         PA210 10 ft-17 ft Aluminum Extension Plank  1048\n",
       "4  300104-53-01  DEFENDER SERIES 300104-53-01 Compact Saddle Bo...  1043"
      ]
     },
     "execution_count": 10,
     "metadata": {},
     "output_type": "execute_result"
    }
   ],
   "source": [
    "q2_impressions = pd.read_csv('q2_impressions.csv')\n",
    "q2_impressions.head()"
   ]
  },
  {
   "cell_type": "code",
   "execution_count": 11,
   "metadata": {},
   "outputs": [
    {
     "name": "stdout",
     "output_type": "stream",
     "text": [
      "<class 'pandas.core.frame.DataFrame'>\n",
      "RangeIndex: 213 entries, 0 to 212\n",
      "Data columns (total 3 columns):\n",
      "SKU     213 non-null object\n",
      "Name    213 non-null object\n",
      "Q2      213 non-null int64\n",
      "dtypes: int64(1), object(2)\n",
      "memory usage: 5.1+ KB\n"
     ]
    }
   ],
   "source": [
    "q2_impressions.info()"
   ]
  },
  {
   "cell_type": "code",
   "execution_count": 12,
   "metadata": {},
   "outputs": [
    {
     "data": {
      "text/html": [
       "<div>\n",
       "<style>\n",
       "    .dataframe thead tr:only-child th {\n",
       "        text-align: right;\n",
       "    }\n",
       "\n",
       "    .dataframe thead th {\n",
       "        text-align: left;\n",
       "    }\n",
       "\n",
       "    .dataframe tbody tr th {\n",
       "        vertical-align: top;\n",
       "    }\n",
       "</style>\n",
       "<table border=\"1\" class=\"dataframe\">\n",
       "  <thead>\n",
       "    <tr style=\"text-align: right;\">\n",
       "      <th></th>\n",
       "      <th>SKU</th>\n",
       "      <th>Name</th>\n",
       "      <th>Q3</th>\n",
       "    </tr>\n",
       "  </thead>\n",
       "  <tbody>\n",
       "    <tr>\n",
       "      <th>0</th>\n",
       "      <td>127-0-02</td>\n",
       "      <td>Model 127-0-02 Saddle Box, Aluminum, Full Stan...</td>\n",
       "      <td>2004</td>\n",
       "    </tr>\n",
       "    <tr>\n",
       "      <th>1</th>\n",
       "      <td>300105-53-01</td>\n",
       "      <td>DEFENDER SERIES 300105-53-01 Full Size Saddle ...</td>\n",
       "      <td>1079</td>\n",
       "    </tr>\n",
       "    <tr>\n",
       "      <th>2</th>\n",
       "      <td>4830</td>\n",
       "      <td>Model 4830 JOBMASTER® Chest, 25.25 cu ft</td>\n",
       "      <td>637</td>\n",
       "    </tr>\n",
       "    <tr>\n",
       "      <th>3</th>\n",
       "      <td>300104-53-01</td>\n",
       "      <td>DEFENDER SERIES 300104-53-01 Compact Saddle Bo...</td>\n",
       "      <td>606</td>\n",
       "    </tr>\n",
       "    <tr>\n",
       "      <th>4</th>\n",
       "      <td>PA210</td>\n",
       "      <td>PA210 10 ft-17 ft Aluminum Extension Plank</td>\n",
       "      <td>595</td>\n",
       "    </tr>\n",
       "  </tbody>\n",
       "</table>\n",
       "</div>"
      ],
      "text/plain": [
       "            SKU                                               Name    Q3\n",
       "0      127-0-02  Model 127-0-02 Saddle Box, Aluminum, Full Stan...  2004\n",
       "1  300105-53-01  DEFENDER SERIES 300105-53-01 Full Size Saddle ...  1079\n",
       "2          4830           Model 4830 JOBMASTER® Chest, 25.25 cu ft   637\n",
       "3  300104-53-01  DEFENDER SERIES 300104-53-01 Compact Saddle Bo...   606\n",
       "4         PA210         PA210 10 ft-17 ft Aluminum Extension Plank   595"
      ]
     },
     "execution_count": 12,
     "metadata": {},
     "output_type": "execute_result"
    }
   ],
   "source": [
    "q3_impressions = pd.read_csv('q3_impressions.csv')\n",
    "q3_impressions.head()"
   ]
  },
  {
   "cell_type": "code",
   "execution_count": 14,
   "metadata": {},
   "outputs": [
    {
     "name": "stdout",
     "output_type": "stream",
     "text": [
      "<class 'pandas.core.frame.DataFrame'>\n",
      "RangeIndex: 215 entries, 0 to 214\n",
      "Data columns (total 3 columns):\n",
      "SKU     215 non-null object\n",
      "Name    215 non-null object\n",
      "Q3      215 non-null int64\n",
      "dtypes: int64(1), object(2)\n",
      "memory usage: 5.1+ KB\n"
     ]
    }
   ],
   "source": [
    "q3_impressions.info()"
   ]
  },
  {
   "cell_type": "code",
   "execution_count": 20,
   "metadata": {},
   "outputs": [
    {
     "data": {
      "text/html": [
       "<div>\n",
       "<style>\n",
       "    .dataframe thead tr:only-child th {\n",
       "        text-align: right;\n",
       "    }\n",
       "\n",
       "    .dataframe thead th {\n",
       "        text-align: left;\n",
       "    }\n",
       "\n",
       "    .dataframe tbody tr th {\n",
       "        vertical-align: top;\n",
       "    }\n",
       "</style>\n",
       "<table border=\"1\" class=\"dataframe\">\n",
       "  <thead>\n",
       "    <tr style=\"text-align: right;\">\n",
       "      <th></th>\n",
       "      <th>SKU</th>\n",
       "      <th>Name</th>\n",
       "      <th>Q1</th>\n",
       "      <th>Q2</th>\n",
       "      <th>Q3</th>\n",
       "    </tr>\n",
       "  </thead>\n",
       "  <tbody>\n",
       "    <tr>\n",
       "      <th>210</th>\n",
       "      <td>K121053</td>\n",
       "      <td>K121053 Aerial Kit with BaseWear Std Harness, ...</td>\n",
       "      <td>NaN</td>\n",
       "      <td>2.0</td>\n",
       "      <td>4</td>\n",
       "    </tr>\n",
       "    <tr>\n",
       "      <th>211</th>\n",
       "      <td>H013005</td>\n",
       "      <td>ProForm™ F3 H013005  Standard Harness - Quick ...</td>\n",
       "      <td>NaN</td>\n",
       "      <td>2.0</td>\n",
       "      <td>2</td>\n",
       "    </tr>\n",
       "    <tr>\n",
       "      <th>212</th>\n",
       "      <td>H412002</td>\n",
       "      <td>BaseWear H412002 Standard (1 D Ring) Harness -...</td>\n",
       "      <td>NaN</td>\n",
       "      <td>NaN</td>\n",
       "      <td>10</td>\n",
       "    </tr>\n",
       "    <tr>\n",
       "      <th>213</th>\n",
       "      <td>L240000</td>\n",
       "      <td>L240000 Stainless Steel Trailing Rope Grab</td>\n",
       "      <td>NaN</td>\n",
       "      <td>NaN</td>\n",
       "      <td>10</td>\n",
       "    </tr>\n",
       "    <tr>\n",
       "      <th>214</th>\n",
       "      <td>H431002</td>\n",
       "      <td>BaseWear H431002 Positioning (3 D Rings) Harne...</td>\n",
       "      <td>NaN</td>\n",
       "      <td>NaN</td>\n",
       "      <td>1</td>\n",
       "    </tr>\n",
       "  </tbody>\n",
       "</table>\n",
       "</div>"
      ],
      "text/plain": [
       "         SKU                                               Name  Q1   Q2  Q3\n",
       "210  K121053  K121053 Aerial Kit with BaseWear Std Harness, ... NaN  2.0   4\n",
       "211  H013005  ProForm™ F3 H013005  Standard Harness - Quick ... NaN  2.0   2\n",
       "212  H412002  BaseWear H412002 Standard (1 D Ring) Harness -... NaN  NaN  10\n",
       "213  L240000         L240000 Stainless Steel Trailing Rope Grab NaN  NaN  10\n",
       "214  H431002  BaseWear H431002 Positioning (3 D Rings) Harne... NaN  NaN   1"
      ]
     },
     "execution_count": 20,
     "metadata": {},
     "output_type": "execute_result"
    }
   ],
   "source": [
    "df = pd.merge(pd.merge(q1_impressions,q2_impressions,on='SKU', how='right'),q3_impressions,on='SKU', how='right')\n",
    "impressions_merged = df[['SKU','Name', 'Q1', 'Q2', 'Q3']]\n",
    "impressions_merged.tail()"
   ]
  },
  {
   "cell_type": "code",
   "execution_count": 19,
   "metadata": {},
   "outputs": [
    {
     "name": "stdout",
     "output_type": "stream",
     "text": [
      "<class 'pandas.core.frame.DataFrame'>\n",
      "Int64Index: 215 entries, 0 to 214\n",
      "Data columns (total 5 columns):\n",
      "SKU     215 non-null object\n",
      "Name    215 non-null object\n",
      "Q1      192 non-null float64\n",
      "Q2      212 non-null float64\n",
      "Q3      215 non-null int64\n",
      "dtypes: float64(2), int64(1), object(2)\n",
      "memory usage: 10.1+ KB\n"
     ]
    }
   ],
   "source": [
    "impressions_merged.info()"
   ]
  },
  {
   "cell_type": "code",
   "execution_count": 8,
   "metadata": {},
   "outputs": [
    {
     "data": {
      "text/html": [
       "<div>\n",
       "<style>\n",
       "    .dataframe thead tr:only-child th {\n",
       "        text-align: right;\n",
       "    }\n",
       "\n",
       "    .dataframe thead th {\n",
       "        text-align: left;\n",
       "    }\n",
       "\n",
       "    .dataframe tbody tr th {\n",
       "        vertical-align: top;\n",
       "    }\n",
       "</style>\n",
       "<table border=\"1\" class=\"dataframe\">\n",
       "  <thead>\n",
       "    <tr style=\"text-align: right;\">\n",
       "      <th></th>\n",
       "      <th>Quarter</th>\n",
       "      <th>SKU</th>\n",
       "      <th>Name</th>\n",
       "      <th>Country Code</th>\n",
       "      <th>Click-Throughs</th>\n",
       "      <th>Unnamed: 5</th>\n",
       "    </tr>\n",
       "  </thead>\n",
       "  <tbody>\n",
       "    <tr>\n",
       "      <th>0</th>\n",
       "      <td>3</td>\n",
       "      <td>300104-53-01</td>\n",
       "      <td>DEFENDER SERIES 300104-53-01 Compact Saddle Bo...</td>\n",
       "      <td>US</td>\n",
       "      <td>85</td>\n",
       "      <td>NaN</td>\n",
       "    </tr>\n",
       "    <tr>\n",
       "      <th>1</th>\n",
       "      <td>3</td>\n",
       "      <td>300105-53-01</td>\n",
       "      <td>DEFENDER SERIES 300105-53-01 Full Size Saddle ...</td>\n",
       "      <td>US</td>\n",
       "      <td>64</td>\n",
       "      <td>NaN</td>\n",
       "    </tr>\n",
       "    <tr>\n",
       "      <th>2</th>\n",
       "      <td>3</td>\n",
       "      <td>SRS-72</td>\n",
       "      <td>SRS-72 6 ft Steel Rolling Scaffold</td>\n",
       "      <td>US</td>\n",
       "      <td>51</td>\n",
       "      <td>NaN</td>\n",
       "    </tr>\n",
       "    <tr>\n",
       "      <th>3</th>\n",
       "      <td>3</td>\n",
       "      <td>SRG-72</td>\n",
       "      <td>SRG-72  Guard Rail and Toeboard Kit</td>\n",
       "      <td>US</td>\n",
       "      <td>47</td>\n",
       "      <td>NaN</td>\n",
       "    </tr>\n",
       "    <tr>\n",
       "      <th>4</th>\n",
       "      <td>3</td>\n",
       "      <td>127-0-02</td>\n",
       "      <td>Model 127-0-02 Saddle Box, Aluminum, Full Stan...</td>\n",
       "      <td>US</td>\n",
       "      <td>44</td>\n",
       "      <td>NaN</td>\n",
       "    </tr>\n",
       "  </tbody>\n",
       "</table>\n",
       "</div>"
      ],
      "text/plain": [
       "   Quarter           SKU                                               Name  \\\n",
       "0        3  300104-53-01  DEFENDER SERIES 300104-53-01 Compact Saddle Bo...   \n",
       "1        3  300105-53-01  DEFENDER SERIES 300105-53-01 Full Size Saddle ...   \n",
       "2        3        SRS-72                 SRS-72 6 ft Steel Rolling Scaffold   \n",
       "3        3        SRG-72                SRG-72  Guard Rail and Toeboard Kit   \n",
       "4        3      127-0-02  Model 127-0-02 Saddle Box, Aluminum, Full Stan...   \n",
       "\n",
       "  Country Code  Click-Throughs  Unnamed: 5  \n",
       "0           US              85         NaN  \n",
       "1           US              64         NaN  \n",
       "2           US              51         NaN  \n",
       "3           US              47         NaN  \n",
       "4           US              44         NaN  "
      ]
     },
     "execution_count": 8,
     "metadata": {},
     "output_type": "execute_result"
    }
   ],
   "source": [
    "clicks = pd.read_csv('clickthrough_product.csv')\n",
    "clicks.head()"
   ]
  },
  {
   "cell_type": "code",
   "execution_count": 9,
   "metadata": {},
   "outputs": [
    {
     "name": "stdout",
     "output_type": "stream",
     "text": [
      "<class 'pandas.core.frame.DataFrame'>\n",
      "RangeIndex: 514 entries, 0 to 513\n",
      "Data columns (total 6 columns):\n",
      "Quarter           514 non-null int64\n",
      "SKU               514 non-null object\n",
      "Name              514 non-null object\n",
      "Country Code      514 non-null object\n",
      "Click-Throughs    514 non-null int64\n",
      "Unnamed: 5        0 non-null float64\n",
      "dtypes: float64(1), int64(2), object(3)\n",
      "memory usage: 24.2+ KB\n"
     ]
    }
   ],
   "source": [
    "clicks.info()"
   ]
  },
  {
   "cell_type": "code",
   "execution_count": null,
   "metadata": {
    "collapsed": true
   },
   "outputs": [],
   "source": []
  }
 ],
 "metadata": {
  "kernelspec": {
   "display_name": "Python 3",
   "language": "python",
   "name": "python3"
  },
  "language_info": {
   "codemirror_mode": {
    "name": "ipython",
    "version": 3
   },
   "file_extension": ".py",
   "mimetype": "text/x-python",
   "name": "python",
   "nbconvert_exporter": "python",
   "pygments_lexer": "ipython3",
   "version": "3.6.2"
  }
 },
 "nbformat": 4,
 "nbformat_minor": 2
}
